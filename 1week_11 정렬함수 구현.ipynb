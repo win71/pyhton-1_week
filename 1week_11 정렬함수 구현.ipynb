{
 "cells": [
  {
   "cell_type": "code",
   "execution_count": 1,
   "metadata": {},
   "outputs": [],
   "source": [
    "# 리스트 정렬\n",
    "\n",
    "def list_sort(x):\n",
    "    for i in range(len(x)):\n",
    "        max_val=x[i]\n",
    "        \n",
    "        for k in range(i,len(x)):\n",
    "            if max_val<=x[k]:\n",
    "                max_val=x[k]\n",
    "                p=k\n",
    "        \n",
    "        temp_max=x[p]\n",
    "        x[p]=x[i]\n",
    "        x[i]=temp_max\n",
    "    \n",
    "    print(x)\n",
    "            \n"
   ]
  },
  {
   "cell_type": "code",
   "execution_count": 3,
   "metadata": {},
   "outputs": [
    {
     "name": "stdout",
     "output_type": "stream",
     "text": [
      "[73, 56, 34, 32, 23, 21, 11, 1]\n"
     ]
    }
   ],
   "source": [
    "x=[1,34,32,11,21,56,73,23]\n",
    "list_sort(x)"
   ]
  },
  {
   "cell_type": "code",
   "execution_count": null,
   "metadata": {},
   "outputs": [],
   "source": []
  }
 ],
 "metadata": {
  "kernelspec": {
   "display_name": "Python 3",
   "language": "python",
   "name": "python3"
  },
  "language_info": {
   "codemirror_mode": {
    "name": "ipython",
    "version": 3
   },
   "file_extension": ".py",
   "mimetype": "text/x-python",
   "name": "python",
   "nbconvert_exporter": "python",
   "pygments_lexer": "ipython3",
   "version": "3.7.1"
  }
 },
 "nbformat": 4,
 "nbformat_minor": 2
}
