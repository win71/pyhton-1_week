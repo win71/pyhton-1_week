{
  "nbformat": 4,
  "nbformat_minor": 0,
  "metadata": {
    "kernelspec": {
      "display_name": "Python 3",
      "language": "python",
      "name": "python3"
    },
    "language_info": {
      "codemirror_mode": {
        "name": "ipython",
        "version": 3
      },
      "file_extension": ".py",
      "mimetype": "text/x-python",
      "name": "python",
      "nbconvert_exporter": "python",
      "pygments_lexer": "ipython3",
      "version": "3.7.1"
    },
    "colab": {
      "name": "0728_2_python.ipynb",
      "version": "0.3.2",
      "provenance": [],
      "include_colab_link": true
    }
  },
  "cells": [
    {
      "cell_type": "markdown",
      "metadata": {
        "id": "view-in-github",
        "colab_type": "text"
      },
      "source": [
        "<a href=\"https://colab.research.google.com/github/win71/pyhton-1_week/blob/master/0728_2_python.ipynb\" target=\"_parent\"><img src=\"https://colab.research.google.com/assets/colab-badge.svg\" alt=\"Open In Colab\"/></a>"
      ]
    },
    {
      "cell_type": "code",
      "metadata": {
        "id": "D3p6gqyG-HGI",
        "colab_type": "code",
        "colab": {}
      },
      "source": [
        "#1주차 수업:7월28일"
      ],
      "execution_count": 0,
      "outputs": []
    },
    {
      "cell_type": "code",
      "metadata": {
        "id": "wZ2s65DF-HGS",
        "colab_type": "code",
        "colab": {}
      },
      "source": [
        "#이 네모 박스를 커널(kernel)이라 한다. \n",
        "#커널을 만들고 싶으면 a 또는 b를 친다. a는 위에 생성, b아래에 생성된다."
      ],
      "execution_count": 0,
      "outputs": []
    },
    {
      "cell_type": "code",
      "metadata": {
        "id": "GMEx8nD8-HGb",
        "colab_type": "code",
        "colab": {
          "base_uri": "https://localhost:8080/",
          "height": 36
        },
        "outputId": "5395a659-3426-4788-a741-696323537958"
      },
      "source": [
        "1+2"
      ],
      "execution_count": 2,
      "outputs": [
        {
          "output_type": "execute_result",
          "data": {
            "text/plain": [
              "3"
            ]
          },
          "metadata": {
            "tags": []
          },
          "execution_count": 2
        }
      ]
    },
    {
      "cell_type": "code",
      "metadata": {
        "id": "iOfWws9f-HGs",
        "colab_type": "code",
        "colab": {},
        "outputId": "2c360ef2-a894-4127-d8bb-913d0d0e3302"
      },
      "source": [
        "a=1+2\n",
        "a"
      ],
      "execution_count": 0,
      "outputs": [
        {
          "output_type": "execute_result",
          "data": {
            "text/plain": [
              "3"
            ]
          },
          "metadata": {
            "tags": []
          },
          "execution_count": 2
        }
      ]
    },
    {
      "cell_type": "code",
      "metadata": {
        "id": "mOP04ExW-HG5",
        "colab_type": "code",
        "colab": {},
        "outputId": "550d8214-2a75-48c4-a671-1654e0abbacd"
      },
      "source": [
        "a=1+2\n",
        "print(a)"
      ],
      "execution_count": 0,
      "outputs": [
        {
          "output_type": "stream",
          "text": [
            "3\n"
          ],
          "name": "stdout"
        }
      ]
    },
    {
      "cell_type": "code",
      "metadata": {
        "id": "bxRdp-UC-HHB",
        "colab_type": "code",
        "colab": {}
      },
      "source": [
        "# 파일이름 변경시는 파일이름위에 커서를 대고 클릭하면 창이 뜬다. "
      ],
      "execution_count": 0,
      "outputs": []
    },
    {
      "cell_type": "code",
      "metadata": {
        "id": "4lwo5X-6-HHI",
        "colab_type": "code",
        "colab": {}
      },
      "source": [
        "# 결과치 제거하고 싶으면 kernel에서 restart & clear output를 선택하면 된다."
      ],
      "execution_count": 0,
      "outputs": []
    },
    {
      "cell_type": "code",
      "metadata": {
        "id": "cNR0i1AH-HHP",
        "colab_type": "code",
        "colab": {},
        "outputId": "b4f8d749-8bcc-4595-eb7c-5155389575a8"
      },
      "source": [
        "a='pytheon'\n",
        "print(a)"
      ],
      "execution_count": 0,
      "outputs": [
        {
          "output_type": "stream",
          "text": [
            "pytheon\n"
          ],
          "name": "stdout"
        }
      ]
    },
    {
      "cell_type": "code",
      "metadata": {
        "id": "SvxuQ28O-HHV",
        "colab_type": "code",
        "colab": {}
      },
      "source": [
        "# 파이썬은 띄어쓰기가 엄격하다."
      ],
      "execution_count": 0,
      "outputs": []
    },
    {
      "cell_type": "code",
      "metadata": {
        "id": "j_3GHW62-HHb",
        "colab_type": "code",
        "colab": {}
      },
      "source": [
        "# if, for, while, def(함수)"
      ],
      "execution_count": 0,
      "outputs": []
    },
    {
      "cell_type": "code",
      "metadata": {
        "id": "Qo3zvcgL-HHg",
        "colab_type": "code",
        "colab": {},
        "outputId": "ed9700c6-53e7-4926-ae7b-0882ac93f3fb"
      },
      "source": [
        "a=4\n",
        "if a>1:\n",
        "    print(\"a is greater than 1\")"
      ],
      "execution_count": 0,
      "outputs": [
        {
          "output_type": "stream",
          "text": [
            "a is greater than 1\n"
          ],
          "name": "stdout"
        }
      ]
    },
    {
      "cell_type": "code",
      "metadata": {
        "id": "QUi1bgRL-HHl",
        "colab_type": "code",
        "colab": {},
        "outputId": "7c769bf8-383a-4d21-9b30-1990037c0f61"
      },
      "source": [
        "for a in [1,2,3]:\n",
        "    print(a)"
      ],
      "execution_count": 0,
      "outputs": [
        {
          "output_type": "stream",
          "text": [
            "1\n",
            "2\n",
            "3\n"
          ],
          "name": "stdout"
        }
      ]
    },
    {
      "cell_type": "code",
      "metadata": {
        "id": "uKjAoq3F-HHs",
        "colab_type": "code",
        "colab": {},
        "outputId": "48e481b7-54d9-49d5-a571-478d02168cce"
      },
      "source": [
        "i=0\n",
        "while i<3:\n",
        "    i=i+1\n",
        "    print(i)\n"
      ],
      "execution_count": 0,
      "outputs": [
        {
          "output_type": "stream",
          "text": [
            "1\n",
            "2\n",
            "3\n"
          ],
          "name": "stdout"
        }
      ]
    },
    {
      "cell_type": "code",
      "metadata": {
        "id": "vKVabIZC-HH2",
        "colab_type": "code",
        "colab": {}
      },
      "source": [
        "def add(a,b):\n",
        "    return a+b"
      ],
      "execution_count": 0,
      "outputs": []
    },
    {
      "cell_type": "code",
      "metadata": {
        "id": "N6x3gkMl-HH-",
        "colab_type": "code",
        "colab": {},
        "outputId": "000750a2-8fc1-40dd-d513-16b9ceb27580"
      },
      "source": [
        "add(2,4)"
      ],
      "execution_count": 0,
      "outputs": [
        {
          "output_type": "execute_result",
          "data": {
            "text/plain": [
              "6"
            ]
          },
          "metadata": {
            "tags": []
          },
          "execution_count": 11
        }
      ]
    },
    {
      "cell_type": "code",
      "metadata": {
        "id": "6FoPKbOn-HIH",
        "colab_type": "code",
        "colab": {}
      },
      "source": [
        "# 실수형"
      ],
      "execution_count": 0,
      "outputs": []
    },
    {
      "cell_type": "code",
      "metadata": {
        "id": "oQ6kXAfN-HIP",
        "colab_type": "code",
        "colab": {},
        "outputId": "822a82ac-fc4a-4daa-f857-e5a2041c1605"
      },
      "source": [
        "a=1.3\n",
        "a=-9\n",
        "a"
      ],
      "execution_count": 0,
      "outputs": [
        {
          "output_type": "execute_result",
          "data": {
            "text/plain": [
              "-9"
            ]
          },
          "metadata": {
            "tags": []
          },
          "execution_count": 12
        }
      ]
    },
    {
      "cell_type": "code",
      "metadata": {
        "id": "5pSznIFY-HIW",
        "colab_type": "code",
        "colab": {}
      },
      "source": [
        "# 사칙연산에서 %는 중요: 나머지를 반환하는 명령어"
      ],
      "execution_count": 0,
      "outputs": []
    },
    {
      "cell_type": "code",
      "metadata": {
        "id": "BI1Lp6hu-HIg",
        "colab_type": "code",
        "colab": {},
        "outputId": "ca933852-3b3c-4af6-efcc-7c7271be4e5e"
      },
      "source": [
        "10%3"
      ],
      "execution_count": 0,
      "outputs": [
        {
          "output_type": "execute_result",
          "data": {
            "text/plain": [
              "1"
            ]
          },
          "metadata": {
            "tags": []
          },
          "execution_count": 13
        }
      ]
    },
    {
      "cell_type": "code",
      "metadata": {
        "id": "Lb1aVrsi-HIu",
        "colab_type": "code",
        "colab": {},
        "outputId": "b4078374-1437-4d17-feb2-803d662cb979"
      },
      "source": [
        "ave=(80+75+55)/3\n",
        "ave"
      ],
      "execution_count": 0,
      "outputs": [
        {
          "output_type": "execute_result",
          "data": {
            "text/plain": [
              "70.0"
            ]
          },
          "metadata": {
            "tags": []
          },
          "execution_count": 18
        }
      ]
    },
    {
      "cell_type": "code",
      "metadata": {
        "id": "VwSuN91L-HI3",
        "colab_type": "code",
        "colab": {}
      },
      "source": [
        "a=[80,75,55]\n",
        "for i in a:\n",
        "    if i%2==0:\n",
        "        print(\"짝수\")\n",
        "    if i%2==1:\n",
        "        print(\"홀수\")"
      ],
      "execution_count": 0,
      "outputs": []
    },
    {
      "cell_type": "code",
      "metadata": {
        "id": "_9mvKSIf-HI8",
        "colab_type": "code",
        "colab": {},
        "outputId": "aade40a6-ac7a-407d-9676-afdfe81bcb49"
      },
      "source": [
        "!pip install keras"
      ],
      "execution_count": 0,
      "outputs": [
        {
          "output_type": "stream",
          "text": [
            "Requirement already satisfied: keras in c:\\users\\changmoon\\anaconda3\\lib\\site-packages (2.2.4)\n",
            "Requirement already satisfied: numpy>=1.9.1 in c:\\users\\changmoon\\anaconda3\\lib\\site-packages (from keras) (1.15.4)\n",
            "Requirement already satisfied: keras-preprocessing>=1.0.5 in c:\\users\\changmoon\\anaconda3\\lib\\site-packages (from keras) (1.1.0)\n",
            "Requirement already satisfied: h5py in c:\\users\\changmoon\\anaconda3\\lib\\site-packages (from keras) (2.8.0)\n",
            "Requirement already satisfied: scipy>=0.14 in c:\\users\\changmoon\\anaconda3\\lib\\site-packages (from keras) (1.1.0)\n",
            "Requirement already satisfied: six>=1.9.0 in c:\\users\\changmoon\\anaconda3\\lib\\site-packages (from keras) (1.12.0)\n",
            "Requirement already satisfied: keras-applications>=1.0.6 in c:\\users\\changmoon\\anaconda3\\lib\\site-packages (from keras) (1.0.8)\n",
            "Requirement already satisfied: pyyaml in c:\\users\\changmoon\\anaconda3\\lib\\site-packages (from keras) (3.13)\n"
          ],
          "name": "stdout"
        }
      ]
    },
    {
      "cell_type": "code",
      "metadata": {
        "id": "70E84QYs-HJA",
        "colab_type": "code",
        "colab": {
          "base_uri": "https://localhost:8080/",
          "height": 391
        },
        "outputId": "00f529bc-3f73-4b79-c80c-bf0f75a3d8db"
      },
      "source": [
        "import pandas as pd\n",
        "import numpy as np\n",
        "!pip install tensorflow\n",
        "import tensorflow\n"
      ],
      "execution_count": 3,
      "outputs": [
        {
          "output_type": "stream",
          "text": [
            "Requirement already satisfied: tensorflow in /usr/local/lib/python3.6/dist-packages (1.14.0)\n",
            "Requirement already satisfied: termcolor>=1.1.0 in /usr/local/lib/python3.6/dist-packages (from tensorflow) (1.1.0)\n",
            "Requirement already satisfied: gast>=0.2.0 in /usr/local/lib/python3.6/dist-packages (from tensorflow) (0.2.2)\n",
            "Requirement already satisfied: absl-py>=0.7.0 in /usr/local/lib/python3.6/dist-packages (from tensorflow) (0.7.1)\n",
            "Requirement already satisfied: grpcio>=1.8.6 in /usr/local/lib/python3.6/dist-packages (from tensorflow) (1.15.0)\n",
            "Requirement already satisfied: keras-preprocessing>=1.0.5 in /usr/local/lib/python3.6/dist-packages (from tensorflow) (1.1.0)\n",
            "Requirement already satisfied: protobuf>=3.6.1 in /usr/local/lib/python3.6/dist-packages (from tensorflow) (3.7.1)\n",
            "Requirement already satisfied: six>=1.10.0 in /usr/local/lib/python3.6/dist-packages (from tensorflow) (1.12.0)\n",
            "Requirement already satisfied: wrapt>=1.11.1 in /usr/local/lib/python3.6/dist-packages (from tensorflow) (1.11.2)\n",
            "Requirement already satisfied: astor>=0.6.0 in /usr/local/lib/python3.6/dist-packages (from tensorflow) (0.8.0)\n",
            "Requirement already satisfied: keras-applications>=1.0.6 in /usr/local/lib/python3.6/dist-packages (from tensorflow) (1.0.8)\n",
            "Requirement already satisfied: wheel>=0.26 in /usr/local/lib/python3.6/dist-packages (from tensorflow) (0.33.4)\n",
            "Requirement already satisfied: google-pasta>=0.1.6 in /usr/local/lib/python3.6/dist-packages (from tensorflow) (0.1.7)\n",
            "Requirement already satisfied: numpy<2.0,>=1.14.5 in /usr/local/lib/python3.6/dist-packages (from tensorflow) (1.16.4)\n",
            "Requirement already satisfied: tensorflow-estimator<1.15.0rc0,>=1.14.0rc0 in /usr/local/lib/python3.6/dist-packages (from tensorflow) (1.14.0)\n",
            "Requirement already satisfied: tensorboard<1.15.0,>=1.14.0 in /usr/local/lib/python3.6/dist-packages (from tensorflow) (1.14.0)\n",
            "Requirement already satisfied: setuptools in /usr/local/lib/python3.6/dist-packages (from protobuf>=3.6.1->tensorflow) (41.0.1)\n",
            "Requirement already satisfied: h5py in /usr/local/lib/python3.6/dist-packages (from keras-applications>=1.0.6->tensorflow) (2.8.0)\n",
            "Requirement already satisfied: werkzeug>=0.11.15 in /usr/local/lib/python3.6/dist-packages (from tensorboard<1.15.0,>=1.14.0->tensorflow) (0.15.5)\n",
            "Requirement already satisfied: markdown>=2.6.8 in /usr/local/lib/python3.6/dist-packages (from tensorboard<1.15.0,>=1.14.0->tensorflow) (3.1.1)\n"
          ],
          "name": "stdout"
        }
      ]
    },
    {
      "cell_type": "code",
      "metadata": {
        "id": "Fo04JeNr-HJE",
        "colab_type": "code",
        "colab": {
          "base_uri": "https://localhost:8080/",
          "height": 202
        },
        "outputId": "d97c9203-a2b7-47c5-82d2-bac0581b8b72"
      },
      "source": [
        "b=pd.DataFrame([1,2,3,4,5])\n",
        "b\n"
      ],
      "execution_count": 4,
      "outputs": [
        {
          "output_type": "execute_result",
          "data": {
            "text/html": [
              "<div>\n",
              "<style scoped>\n",
              "    .dataframe tbody tr th:only-of-type {\n",
              "        vertical-align: middle;\n",
              "    }\n",
              "\n",
              "    .dataframe tbody tr th {\n",
              "        vertical-align: top;\n",
              "    }\n",
              "\n",
              "    .dataframe thead th {\n",
              "        text-align: right;\n",
              "    }\n",
              "</style>\n",
              "<table border=\"1\" class=\"dataframe\">\n",
              "  <thead>\n",
              "    <tr style=\"text-align: right;\">\n",
              "      <th></th>\n",
              "      <th>0</th>\n",
              "    </tr>\n",
              "  </thead>\n",
              "  <tbody>\n",
              "    <tr>\n",
              "      <th>0</th>\n",
              "      <td>1</td>\n",
              "    </tr>\n",
              "    <tr>\n",
              "      <th>1</th>\n",
              "      <td>2</td>\n",
              "    </tr>\n",
              "    <tr>\n",
              "      <th>2</th>\n",
              "      <td>3</td>\n",
              "    </tr>\n",
              "    <tr>\n",
              "      <th>3</th>\n",
              "      <td>4</td>\n",
              "    </tr>\n",
              "    <tr>\n",
              "      <th>4</th>\n",
              "      <td>5</td>\n",
              "    </tr>\n",
              "  </tbody>\n",
              "</table>\n",
              "</div>"
            ],
            "text/plain": [
              "   0\n",
              "0  1\n",
              "1  2\n",
              "2  3\n",
              "3  4\n",
              "4  5"
            ]
          },
          "metadata": {
            "tags": []
          },
          "execution_count": 4
        }
      ]
    },
    {
      "cell_type": "code",
      "metadata": {
        "id": "rvYEyQ4W-HJH",
        "colab_type": "code",
        "colab": {}
      },
      "source": [
        "# 문자열"
      ],
      "execution_count": 0,
      "outputs": []
    },
    {
      "cell_type": "code",
      "metadata": {
        "id": "JfBECuyV-eDF",
        "colab_type": "code",
        "colab": {
          "base_uri": "https://localhost:8080/",
          "height": 111
        },
        "outputId": "a7977b57-06e2-49f7-b2d6-74be3b715688"
      },
      "source": [
        "multiline='''\n",
        "life is too short\n",
        "you need python\n",
        "'''\n",
        "print(multiline)\n",
        "multiline"
      ],
      "execution_count": 7,
      "outputs": [
        {
          "output_type": "stream",
          "text": [
            "\n",
            "life is too short\n",
            "you need python\n",
            "\n"
          ],
          "name": "stdout"
        },
        {
          "output_type": "execute_result",
          "data": {
            "text/plain": [
              "'\\nlife is too short\\nyou need python\\n'"
            ]
          },
          "metadata": {
            "tags": []
          },
          "execution_count": 7
        }
      ]
    },
    {
      "cell_type": "code",
      "metadata": {
        "id": "RMB5bAqp-fRL",
        "colab_type": "code",
        "colab": {}
      },
      "source": [
        "# 문자열 연산"
      ],
      "execution_count": 0,
      "outputs": []
    },
    {
      "cell_type": "code",
      "metadata": {
        "id": "eBLarOh0-f6C",
        "colab_type": "code",
        "colab": {
          "base_uri": "https://localhost:8080/",
          "height": 36
        },
        "outputId": "37137143-41e2-4a5f-fab9-3a540210d8f5"
      },
      "source": [
        "head=\"python\"\n",
        "tail=\" is fun!!\"\n",
        "head+tail"
      ],
      "execution_count": 9,
      "outputs": [
        {
          "output_type": "execute_result",
          "data": {
            "text/plain": [
              "'python is fun!!'"
            ]
          },
          "metadata": {
            "tags": []
          },
          "execution_count": 9
        }
      ]
    },
    {
      "cell_type": "code",
      "metadata": {
        "id": "JNEU7ok7_knU",
        "colab_type": "code",
        "colab": {
          "base_uri": "https://localhost:8080/",
          "height": 36
        },
        "outputId": "f517f2a7-2cda-40a4-e2ad-445c7ea4be8f"
      },
      "source": [
        "a=\"Life is too short\"\n",
        "len(a)"
      ],
      "execution_count": 13,
      "outputs": [
        {
          "output_type": "execute_result",
          "data": {
            "text/plain": [
              "17"
            ]
          },
          "metadata": {
            "tags": []
          },
          "execution_count": 13
        }
      ]
    },
    {
      "cell_type": "code",
      "metadata": {
        "id": "QfcOM96__lGv",
        "colab_type": "code",
        "colab": {
          "base_uri": "https://localhost:8080/",
          "height": 36
        },
        "outputId": "faa5234d-c30a-4e6b-9e53-691fdfd4c5fe"
      },
      "source": [
        "a[3]\n",
        "#파이선에서 위치는 0부터 시작한다. 따라서 a[3]은 네번째 요소가 출력"
      ],
      "execution_count": 14,
      "outputs": [
        {
          "output_type": "execute_result",
          "data": {
            "text/plain": [
              "'e'"
            ]
          },
          "metadata": {
            "tags": []
          },
          "execution_count": 14
        }
      ]
    },
    {
      "cell_type": "code",
      "metadata": {
        "id": "aEsl1MSW_-Mq",
        "colab_type": "code",
        "colab": {
          "base_uri": "https://localhost:8080/",
          "height": 36
        },
        "outputId": "c3584413-9d86-4ec3-a1d7-b2ab27860d7e"
      },
      "source": [
        "print(a[0], a[2], a[5], a[-1],a[-5])"
      ],
      "execution_count": 16,
      "outputs": [
        {
          "output_type": "stream",
          "text": [
            "L f i t s\n"
          ],
          "name": "stdout"
        }
      ]
    },
    {
      "cell_type": "code",
      "metadata": {
        "id": "yk2yAsmN_-yG",
        "colab_type": "code",
        "colab": {
          "base_uri": "https://localhost:8080/",
          "height": 36
        },
        "outputId": "53fd3e71-2f72-444e-a64f-40a67f44eb12"
      },
      "source": [
        "print(a[0:4],a[0:5])"
      ],
      "execution_count": 21,
      "outputs": [
        {
          "output_type": "stream",
          "text": [
            "Life Life \n"
          ],
          "name": "stdout"
        }
      ]
    },
    {
      "cell_type": "code",
      "metadata": {
        "id": "dEByaMvN_lkC",
        "colab_type": "code",
        "colab": {}
      },
      "source": [
        ""
      ],
      "execution_count": 0,
      "outputs": []
    }
  ]
}