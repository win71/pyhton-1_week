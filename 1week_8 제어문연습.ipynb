{
 "cells": [
  {
   "cell_type": "code",
   "execution_count": 27,
   "metadata": {},
   "outputs": [
    {
     "name": "stdout",
     "output_type": "stream",
     "text": [
      "닷컴 회사\n",
      "닷넷 회사\n",
      "그외 회사\n"
     ]
    }
   ],
   "source": [
    "s=[\"hera@naver.com\"]\n",
    "p=[\"gardenpro@daum.net\",\"korea@korea.co.kr\"]\n",
    "\n",
    "for i in range(len(p)):\n",
    "    s.append(p[i])\n",
    "    \n",
    "for i in s:\n",
    "    if i.endswith(\".net\"):\n",
    "        print(\"닷넷 회사\")\n",
    "    elif i.endswith(\".com\"):\n",
    "        print(\"닷컴 회사\")\n",
    "    else:\n",
    "        print(\"그외 회사\")\n",
    "  \n",
    "\n"
   ]
  },
  {
   "cell_type": "code",
   "execution_count": 4,
   "metadata": {},
   "outputs": [
    {
     "name": "stdout",
     "output_type": "stream",
     "text": [
      "닷넷 회사\n",
      "그외 회사\n",
      "닷컴 회사\n"
     ]
    }
   ],
   "source": [
    "s=[\"gardenpro@daum.net\",\"korea@korea.co.kr\",\"hera@naver.com\"]\n",
    "\n",
    "for i in s:\n",
    "    if i.endswith(\".net\"):\n",
    "        print(\"닷넷 회사\")\n",
    "    elif i.endswith(\".com\"):\n",
    "        print(\"닷컴 회사\")\n",
    "    else:\n",
    "        print(\"그외 회사\")"
   ]
  },
  {
   "cell_type": "code",
   "execution_count": null,
   "metadata": {},
   "outputs": [],
   "source": []
  }
 ],
 "metadata": {
  "kernelspec": {
   "display_name": "Python 3",
   "language": "python",
   "name": "python3"
  },
  "language_info": {
   "codemirror_mode": {
    "name": "ipython",
    "version": 3
   },
   "file_extension": ".py",
   "mimetype": "text/x-python",
   "name": "python",
   "nbconvert_exporter": "python",
   "pygments_lexer": "ipython3",
   "version": "3.7.1"
  }
 },
 "nbformat": 4,
 "nbformat_minor": 2
}
