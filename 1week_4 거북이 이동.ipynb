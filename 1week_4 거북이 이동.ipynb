{
 "cells": [
  {
   "cell_type": "code",
   "execution_count": 1,
   "metadata": {},
   "outputs": [],
   "source": [
    "import turtle"
   ]
  },
  {
   "cell_type": "code",
   "execution_count": 2,
   "metadata": {},
   "outputs": [],
   "source": [
    "t=turtle.Pen()"
   ]
  },
  {
   "cell_type": "code",
   "execution_count": null,
   "metadata": {},
   "outputs": [
    {
     "name": "stdout",
     "output_type": "stream",
     "text": [
      "왼쪽:left, 오른쪽:right>>left\n",
      "얼마만큼 방향을 돌릴까요-180\n",
      "얼만큼 갈까요90\n"
     ]
    }
   ],
   "source": [
    "while True:\n",
    "    direction=input(\"왼쪽:left, 오른쪽:right>>\")\n",
    "    angle=int(input(\"얼마만큼 방향을 돌릴까요\"))\n",
    "    distance=int(input(\"얼만큼 갈까요\"))\n",
    "    \n",
    "    if direction==\"left\":\n",
    "        t.left(angle)\n",
    "        t.forward(distance)\n",
    "    if direction==\"right\":\n",
    "        t.right(angle)\n",
    "        t.forward(distance)\n",
    "    \n",
    "    "
   ]
  },
  {
   "cell_type": "code",
   "execution_count": null,
   "metadata": {},
   "outputs": [],
   "source": []
  },
  {
   "cell_type": "code",
   "execution_count": null,
   "metadata": {},
   "outputs": [],
   "source": []
  }
 ],
 "metadata": {
  "kernelspec": {
   "display_name": "Python 3",
   "language": "python",
   "name": "python3"
  },
  "language_info": {
   "codemirror_mode": {
    "name": "ipython",
    "version": 3
   },
   "file_extension": ".py",
   "mimetype": "text/x-python",
   "name": "python",
   "nbconvert_exporter": "python",
   "pygments_lexer": "ipython3",
   "version": "3.7.1"
  }
 },
 "nbformat": 4,
 "nbformat_minor": 2
}
